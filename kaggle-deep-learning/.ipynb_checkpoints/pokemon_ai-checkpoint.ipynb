{
 "cells": [
  {
   "cell_type": "code",
   "execution_count": 1,
   "metadata": {},
   "outputs": [],
   "source": [
    "import numpy as np\n",
    "import pandas as pd\n",
    "import csv\n",
    "import seaborn as sns\n",
    "\n",
    "import matplotlib.pyplot as plt"
   ]
  },
  {
   "cell_type": "code",
   "execution_count": 2,
   "metadata": {},
   "outputs": [],
   "source": [
    "df_train = pd.read_csv('train.csv')\n",
    "df_test = pd.read_csv('test.csv')"
   ]
  },
  {
   "cell_type": "code",
   "execution_count": 3,
   "metadata": {},
   "outputs": [
    {
     "data": {
      "text/html": [
       "<div>\n",
       "<style scoped>\n",
       "    .dataframe tbody tr th:only-of-type {\n",
       "        vertical-align: middle;\n",
       "    }\n",
       "\n",
       "    .dataframe tbody tr th {\n",
       "        vertical-align: top;\n",
       "    }\n",
       "\n",
       "    .dataframe thead th {\n",
       "        text-align: right;\n",
       "    }\n",
       "</style>\n",
       "<table border=\"1\" class=\"dataframe\">\n",
       "  <thead>\n",
       "    <tr style=\"text-align: right;\">\n",
       "      <th></th>\n",
       "      <th>ID</th>\n",
       "      <th>appearedTimeOfDay</th>\n",
       "      <th>appearedHour</th>\n",
       "      <th>appearedMinute</th>\n",
       "      <th>terrainType</th>\n",
       "      <th>closeToWater</th>\n",
       "      <th>city</th>\n",
       "      <th>continent</th>\n",
       "      <th>weather</th>\n",
       "      <th>temperature</th>\n",
       "      <th>...</th>\n",
       "      <th>cooc_143</th>\n",
       "      <th>cooc_144</th>\n",
       "      <th>cooc_145</th>\n",
       "      <th>cooc_146</th>\n",
       "      <th>cooc_147</th>\n",
       "      <th>cooc_148</th>\n",
       "      <th>cooc_149</th>\n",
       "      <th>cooc_150</th>\n",
       "      <th>cooc_151</th>\n",
       "      <th>class</th>\n",
       "    </tr>\n",
       "  </thead>\n",
       "  <tbody>\n",
       "    <tr>\n",
       "      <th>0</th>\n",
       "      <td>NzM4OTYzMzQxNTMyNzc1MDQ0NQ==</td>\n",
       "      <td>evening</td>\n",
       "      <td>19</td>\n",
       "      <td>10</td>\n",
       "      <td>13</td>\n",
       "      <td>False</td>\n",
       "      <td>Bangkok</td>\n",
       "      <td>Asia</td>\n",
       "      <td>Clear</td>\n",
       "      <td>27.8</td>\n",
       "      <td>...</td>\n",
       "      <td>False</td>\n",
       "      <td>False</td>\n",
       "      <td>False</td>\n",
       "      <td>False</td>\n",
       "      <td>False</td>\n",
       "      <td>False</td>\n",
       "      <td>False</td>\n",
       "      <td>False</td>\n",
       "      <td>False</td>\n",
       "      <td>2</td>\n",
       "    </tr>\n",
       "    <tr>\n",
       "      <th>1</th>\n",
       "      <td>NDEwMjE0MzYwNzUyMjE2OTI0NQ==</td>\n",
       "      <td>night</td>\n",
       "      <td>5</td>\n",
       "      <td>19</td>\n",
       "      <td>13</td>\n",
       "      <td>True</td>\n",
       "      <td>New_York</td>\n",
       "      <td>America</td>\n",
       "      <td>Clear</td>\n",
       "      <td>26.1</td>\n",
       "      <td>...</td>\n",
       "      <td>False</td>\n",
       "      <td>False</td>\n",
       "      <td>False</td>\n",
       "      <td>False</td>\n",
       "      <td>False</td>\n",
       "      <td>False</td>\n",
       "      <td>False</td>\n",
       "      <td>False</td>\n",
       "      <td>False</td>\n",
       "      <td>5</td>\n",
       "    </tr>\n",
       "    <tr>\n",
       "      <th>2</th>\n",
       "      <td>OTQ3NzU5MTA4MzgzODg2NzYxMw==</td>\n",
       "      <td>evening</td>\n",
       "      <td>19</td>\n",
       "      <td>46</td>\n",
       "      <td>0</td>\n",
       "      <td>True</td>\n",
       "      <td>New_York</td>\n",
       "      <td>America</td>\n",
       "      <td>Clear</td>\n",
       "      <td>24.7</td>\n",
       "      <td>...</td>\n",
       "      <td>False</td>\n",
       "      <td>False</td>\n",
       "      <td>False</td>\n",
       "      <td>False</td>\n",
       "      <td>False</td>\n",
       "      <td>False</td>\n",
       "      <td>False</td>\n",
       "      <td>False</td>\n",
       "      <td>False</td>\n",
       "      <td>3</td>\n",
       "    </tr>\n",
       "    <tr>\n",
       "      <th>3</th>\n",
       "      <td>MTU2OTA5MTcyMDMzOTc0NzczODk=</td>\n",
       "      <td>morning</td>\n",
       "      <td>11</td>\n",
       "      <td>10</td>\n",
       "      <td>0</td>\n",
       "      <td>True</td>\n",
       "      <td>Hobart</td>\n",
       "      <td>Australia</td>\n",
       "      <td>Clear</td>\n",
       "      <td>12.7</td>\n",
       "      <td>...</td>\n",
       "      <td>False</td>\n",
       "      <td>False</td>\n",
       "      <td>False</td>\n",
       "      <td>False</td>\n",
       "      <td>False</td>\n",
       "      <td>False</td>\n",
       "      <td>False</td>\n",
       "      <td>False</td>\n",
       "      <td>False</td>\n",
       "      <td>4</td>\n",
       "    </tr>\n",
       "    <tr>\n",
       "      <th>4</th>\n",
       "      <td>NTE2OTkxNjE3OTUzODY0MTE4MQ==</td>\n",
       "      <td>evening</td>\n",
       "      <td>18</td>\n",
       "      <td>32</td>\n",
       "      <td>13</td>\n",
       "      <td>True</td>\n",
       "      <td>Los_Angeles</td>\n",
       "      <td>America</td>\n",
       "      <td>PartlyCloudy</td>\n",
       "      <td>19.1</td>\n",
       "      <td>...</td>\n",
       "      <td>False</td>\n",
       "      <td>False</td>\n",
       "      <td>False</td>\n",
       "      <td>False</td>\n",
       "      <td>False</td>\n",
       "      <td>False</td>\n",
       "      <td>False</td>\n",
       "      <td>False</td>\n",
       "      <td>False</td>\n",
       "      <td>3</td>\n",
       "    </tr>\n",
       "  </tbody>\n",
       "</table>\n",
       "<p>5 rows × 184 columns</p>\n",
       "</div>"
      ],
      "text/plain": [
       "                             ID appearedTimeOfDay  appearedHour  \\\n",
       "0  NzM4OTYzMzQxNTMyNzc1MDQ0NQ==           evening            19   \n",
       "1  NDEwMjE0MzYwNzUyMjE2OTI0NQ==             night             5   \n",
       "2  OTQ3NzU5MTA4MzgzODg2NzYxMw==           evening            19   \n",
       "3  MTU2OTA5MTcyMDMzOTc0NzczODk=           morning            11   \n",
       "4  NTE2OTkxNjE3OTUzODY0MTE4MQ==           evening            18   \n",
       "\n",
       "   appearedMinute  terrainType  closeToWater         city  continent  \\\n",
       "0              10           13         False      Bangkok       Asia   \n",
       "1              19           13          True     New_York    America   \n",
       "2              46            0          True     New_York    America   \n",
       "3              10            0          True       Hobart  Australia   \n",
       "4              32           13          True  Los_Angeles    America   \n",
       "\n",
       "        weather  temperature  ...  cooc_143  cooc_144 cooc_145  cooc_146  \\\n",
       "0         Clear         27.8  ...     False     False    False     False   \n",
       "1         Clear         26.1  ...     False     False    False     False   \n",
       "2         Clear         24.7  ...     False     False    False     False   \n",
       "3         Clear         12.7  ...     False     False    False     False   \n",
       "4  PartlyCloudy         19.1  ...     False     False    False     False   \n",
       "\n",
       "   cooc_147  cooc_148  cooc_149  cooc_150  cooc_151  class  \n",
       "0     False     False     False     False     False      2  \n",
       "1     False     False     False     False     False      5  \n",
       "2     False     False     False     False     False      3  \n",
       "3     False     False     False     False     False      4  \n",
       "4     False     False     False     False     False      3  \n",
       "\n",
       "[5 rows x 184 columns]"
      ]
     },
     "execution_count": 3,
     "metadata": {},
     "output_type": "execute_result"
    }
   ],
   "source": [
    "df_train.head()"
   ]
  },
  {
   "cell_type": "code",
   "execution_count": 4,
   "metadata": {},
   "outputs": [
    {
     "data": {
      "text/plain": [
       "184"
      ]
     },
     "execution_count": 4,
     "metadata": {},
     "output_type": "execute_result"
    }
   ],
   "source": [
    "len(df_train.columns)"
   ]
  },
  {
   "cell_type": "code",
   "execution_count": 5,
   "metadata": {},
   "outputs": [
    {
     "data": {
      "text/plain": [
       "Index(['ID', 'appearedTimeOfDay', 'appearedHour', 'appearedMinute',\n",
       "       'terrainType', 'closeToWater', 'city', 'continent', 'weather',\n",
       "       'temperature', 'windSpeed', 'pressure', 'weatherIcon',\n",
       "       'population_density', 'urban', 'suburban', 'midurban', 'rural',\n",
       "       'gymDistanceKm', 'gymIn100m'],\n",
       "      dtype='object')"
      ]
     },
     "execution_count": 5,
     "metadata": {},
     "output_type": "execute_result"
    }
   ],
   "source": [
    "df_train.columns[:20]"
   ]
  },
  {
   "cell_type": "code",
   "execution_count": 6,
   "metadata": {},
   "outputs": [
    {
     "data": {
      "text/plain": [
       "<matplotlib.axes._subplots.AxesSubplot at 0x172117fa898>"
      ]
     },
     "execution_count": 6,
     "metadata": {},
     "output_type": "execute_result"
    },
    {
     "data": {
      "image/png": "[encoded data removed]",
      "text/plain": [
       "<Figure size 432x288 with 1 Axes>"
      ]
     },
     "metadata": {
      "needs_background": "light"
     },
     "output_type": "display_data"
    }
   ],
   "source": [
    "sns.distplot(df_train['class'])"
   ]
  },
  {
   "cell_type": "markdown",
   "metadata": {},
   "source": [
    "### 看看 Heat Map"
   ]
  },
  {
   "cell_type": "code",
   "execution_count": 7,
   "metadata": {},
   "outputs": [
    {
     "data": {
      "text/plain": [
       "<matplotlib.axes._subplots.AxesSubplot at 0x17211b6f2e8>"
      ]
     },
     "execution_count": 7,
     "metadata": {},
     "output_type": "execute_result"
    },
    {
     "data": {
      "image/png": "[encoded data removed]",
      "text/plain": [
       "<Figure size 1440x648 with 2 Axes>"
      ]
     },
     "metadata": {
      "needs_background": "light"
     },
     "output_type": "display_data"
    }
   ],
   "source": [
    "corrmat = df_train.corr()\n",
    "f, ax = plt.subplots(figsize=(20, 9))\n",
    "sns.heatmap(corrmat, vmax=.8, square=True)"
   ]
  },
  {
   "cell_type": "markdown",
   "metadata": {},
   "source": [
    "### 看前 20 相關係數最高的兒"
   ]
  },
  {
   "cell_type": "code",
   "execution_count": 8,
   "metadata": {},
   "outputs": [
    {
     "data": {
      "text/plain": [
       "Index(['class', 'pressure', 'cooc_81', 'cooc_19', 'rural', 'cooc_13',\n",
       "       'closeToWater', 'terrainType', 'appearedHour', 'cooc_43',\n",
       "       'pokestopIn500m', 'pokestopIn1000m', 'pokestopIn250m', 'gymIn500m',\n",
       "       'cooc_21', 'cooc_16', 'pokestopIn100m', 'cooc_10', 'gymIn250m',\n",
       "       'cooc_69'],\n",
       "      dtype='object')"
      ]
     },
     "execution_count": 8,
     "metadata": {},
     "output_type": "execute_result"
    }
   ],
   "source": [
    "# class correlation matrix\n",
    "\n",
    "k = 20 \n",
    "cols = corrmat.nlargest(k, 'class')['class'].index\n",
    "cols"
   ]
  },
  {
   "cell_type": "code",
   "execution_count": 9,
   "metadata": {},
   "outputs": [
    {
     "data": {
      "text/plain": [
       "<matplotlib.axes._subplots.AxesSubplot at 0x17212103978>"
      ]
     },
     "execution_count": 9,
     "metadata": {},
     "output_type": "execute_result"
    },
    {
     "data": {
      "image/png": "[encoded data removed]",
      "text/plain": [
       "<Figure size 1440x648 with 2 Axes>"
      ]
     },
     "metadata": {
      "needs_background": "light"
     },
     "output_type": "display_data"
    }
   ],
   "source": [
    "top_20_corrmat = df_train[cols].corr()\n",
    "f, ax = plt.subplots(figsize=(20, 9))\n",
    "sns.heatmap(top_20_corrmat, vmax=.8, square=True)"
   ]
  },
  {
   "cell_type": "markdown",
   "metadata": {},
   "source": [
    "### 看看城市和類別的差異\n",
    "\n",
    "- city vs class"
   ]
  },
  {
   "cell_type": "code",
   "execution_count": 10,
   "metadata": {},
   "outputs": [
    {
     "data": {
      "text/plain": [
       "0            Bangkok\n",
       "1           New_York\n",
       "2           New_York\n",
       "3             Hobart\n",
       "4        Los_Angeles\n",
       "5            Kuching\n",
       "6        Mexico_City\n",
       "7           New_York\n",
       "8            Chicago\n",
       "9           New_York\n",
       "10              Rome\n",
       "11           Chicago\n",
       "12             Tokyo\n",
       "13             Perth\n",
       "14      Buenos_Aires\n",
       "15       Los_Angeles\n",
       "16          New_York\n",
       "17          New_York\n",
       "18           Bangkok\n",
       "19          New_York\n",
       "20             Tokyo\n",
       "21          New_York\n",
       "22         Ljubljana\n",
       "23           Chicago\n",
       "24           Phoenix\n",
       "25       Los_Angeles\n",
       "26           Phoenix\n",
       "27           Chicago\n",
       "28          New_York\n",
       "29              Rome\n",
       "            ...     \n",
       "7130     Los_Angeles\n",
       "7131     Los_Angeles\n",
       "7132       Amsterdam\n",
       "7133         Phoenix\n",
       "7134           Paris\n",
       "7135            Rome\n",
       "7136        New_York\n",
       "7137    Buenos_Aires\n",
       "7138         Chicago\n",
       "7139          Dublin\n",
       "7140          Brunei\n",
       "7141       Amsterdam\n",
       "7142     Los_Angeles\n",
       "7143        New_York\n",
       "7144           Paris\n",
       "7145          London\n",
       "7146       Stockholm\n",
       "7147          London\n",
       "7148     Los_Angeles\n",
       "7149         Phoenix\n",
       "7150        New_York\n",
       "7151          London\n",
       "7152    Buenos_Aires\n",
       "7153     Los_Angeles\n",
       "7154            Rome\n",
       "7155          Denver\n",
       "7156           Paris\n",
       "7157           Paris\n",
       "7158     Los_Angeles\n",
       "7159        New_York\n",
       "Name: city, Length: 7160, dtype: object"
      ]
     },
     "execution_count": 10,
     "metadata": {},
     "output_type": "execute_result"
    }
   ],
   "source": [
    "df_train['city']"
   ]
  },
  {
   "cell_type": "markdown",
   "metadata": {},
   "source": [
    "### Groupby\n",
    "\n",
    "- city\n",
    "\n",
    "- appearedTimeOfDay\n",
    "\n",
    "- temperature\n",
    "\n",
    "- urban\n",
    "\n",
    "- class\n",
    "\n",
    "- pressure\n"
   ]
  },
  {
   "cell_type": "markdown",
   "metadata": {},
   "source": [
    "#### city"
   ]
  },
  {
   "cell_type": "code",
   "execution_count": 11,
   "metadata": {},
   "outputs": [
    {
     "data": {
      "text/plain": [
       "count      73.000000\n",
       "mean       98.082192\n",
       "std       227.251009\n",
       "min         1.000000\n",
       "25%         4.000000\n",
       "50%        19.000000\n",
       "75%        56.000000\n",
       "max      1387.000000\n",
       "dtype: float64"
      ]
     },
     "execution_count": 11,
     "metadata": {},
     "output_type": "execute_result"
    }
   ],
   "source": [
    "city_ = df_train.groupby(['city'])\n",
    "city_.size().describe()"
   ]
  },
  {
   "cell_type": "markdown",
   "metadata": {},
   "source": [
    "#### appearedTimeOfDay"
   ]
  },
  {
   "cell_type": "code",
   "execution_count": 12,
   "metadata": {},
   "outputs": [
    {
     "data": {
      "text/plain": [
       "appearedTimeOfDay\n",
       "afternoon    1045\n",
       "evening      1023\n",
       "morning      1311\n",
       "night        3781\n",
       "dtype: int64"
      ]
     },
     "execution_count": 12,
     "metadata": {},
     "output_type": "execute_result"
    }
   ],
   "source": [
    "appear_time_day = df_train.groupby(['appearedTimeOfDay'])\n",
    "appear_time_day.size()"
   ]
  },
  {
   "cell_type": "code",
   "execution_count": 13,
   "metadata": {},
   "outputs": [
    {
     "data": {
      "text/plain": [
       "<matplotlib.axes._subplots.AxesSubplot at 0x172120aa6a0>"
      ]
     },
     "execution_count": 13,
     "metadata": {},
     "output_type": "execute_result"
    },
    {
     "data": {
      "image/png": "[encoded data removed]",
      "text/plain": [
       "<Figure size 432x288 with 1 Axes>"
      ]
     },
     "metadata": {
      "needs_background": "light"
     },
     "output_type": "display_data"
    }
   ],
   "source": [
    "appear_time_day_night_with_class_ = appear_time_day.get_group('night').groupby(['class'])\n",
    "appear_time_day_night_with_class_.size().plot.bar()"
   ]
  },
  {
   "cell_type": "code",
   "execution_count": 14,
   "metadata": {},
   "outputs": [
    {
     "data": {
      "image/png": "[encoded data removed]",
      "text/plain": [
       "<Figure size 864x576 with 4 Axes>"
      ]
     },
     "metadata": {
      "needs_background": "light"
     },
     "output_type": "display_data"
    }
   ],
   "source": [
    "plt.figure(figsize=(12, 8))\n",
    "# ax1\n",
    "ax1 = plt.subplot(2, 2, 1)\n",
    "ax1.title.set_text(\"night\")\n",
    "\n",
    "# ax2\n",
    "ax2 = plt.subplot(2, 2, 2)\n",
    "ax2.title.set_text(\"morning\")\n",
    "\n",
    "# ax3\n",
    "ax3 = plt.subplot(2, 2, 3)\n",
    "ax3.title.set_text(\"evening\")\n",
    "\n",
    "# ax4\n",
    "ax4 = plt.subplot(2, 2, 4)\n",
    "ax4.title.set_text(\"afternoon\")\n",
    "\n",
    "\n",
    "appear_time_day_night_with_class_ = appear_time_day.get_group('night').groupby(['class'])\n",
    "appear_time_day_night_with_class_.size().plot.bar(ax=ax1)\n",
    "\n",
    "appear_time_day_morning_with_class_ = appear_time_day.get_group('morning').groupby(['class'])\n",
    "appear_time_day_morning_with_class_.size().plot.bar(ax=ax2)\n",
    "appear_time_day_evening_with_class_ = appear_time_day.get_group('evening').groupby(['class'])\n",
    "appear_time_day_evening_with_class_.size().plot.bar(ax=ax3)\n",
    "appear_time_day_afternoon_with_class_ = appear_time_day.get_group('afternoon').groupby(['class'])\n",
    "appear_time_day_afternoon_with_class_.size().plot.bar(ax=ax4)\n",
    "\n",
    "plt.tight_layout()"
   ]
  },
  {
   "cell_type": "markdown",
   "metadata": {},
   "source": [
    "#### temperature"
   ]
  },
  {
   "cell_type": "code",
   "execution_count": 15,
   "metadata": {},
   "outputs": [
    {
     "data": {
      "text/plain": [
       "<matplotlib.axes._subplots.AxesSubplot at 0x17212046240>"
      ]
     },
     "execution_count": 15,
     "metadata": {},
     "output_type": "execute_result"
    },
    {
     "data": {
      "image/png": "[encoded data removed]",
      "text/plain": [
       "<Figure size 432x288 with 1 Axes>"
      ]
     },
     "metadata": {
      "needs_background": "light"
     },
     "output_type": "display_data"
    }
   ],
   "source": [
    "temperature = df_train.groupby(['temperature'])\n",
    "temperature.size().plot.bar()"
   ]
  },
  {
   "cell_type": "markdown",
   "metadata": {},
   "source": [
    "#### urban"
   ]
  },
  {
   "cell_type": "code",
   "execution_count": 16,
   "metadata": {},
   "outputs": [
    {
     "data": {
      "text/plain": [
       "urban\n",
       "False    4019\n",
       "True     3141\n",
       "dtype: int64"
      ]
     },
     "execution_count": 16,
     "metadata": {},
     "output_type": "execute_result"
    }
   ],
   "source": [
    "urban = df_train.groupby(['urban'])\n",
    "urban.size()"
   ]
  },
  {
   "cell_type": "code",
   "execution_count": 17,
   "metadata": {},
   "outputs": [
    {
     "data": {
      "text/plain": [
       "<matplotlib.axes._subplots.AxesSubplot at 0x17212539828>"
      ]
     },
     "execution_count": 17,
     "metadata": {},
     "output_type": "execute_result"
    },
    {
     "data": {
      "image/png": "[encoded data removed]",
      "text/plain": [
       "<Figure size 432x288 with 1 Axes>"
      ]
     },
     "metadata": {
      "needs_background": "light"
     },
     "output_type": "display_data"
    }
   ],
   "source": [
    "urban_false_with_class =urban.get_group(False).groupby(['class'])\n",
    "urban_false_with_class.size().plot.bar()"
   ]
  },
  {
   "cell_type": "code",
   "execution_count": 18,
   "metadata": {},
   "outputs": [
    {
     "data": {
      "text/plain": [
       "<matplotlib.axes._subplots.AxesSubplot at 0x17213c88198>"
      ]
     },
     "execution_count": 18,
     "metadata": {},
     "output_type": "execute_result"
    },
    {
     "data": {
      "image/png": "[encoded data removed]",
      "text/plain": [
       "<Figure size 432x288 with 1 Axes>"
      ]
     },
     "metadata": {
      "needs_background": "light"
     },
     "output_type": "display_data"
    }
   ],
   "source": [
    "urban_true_with_class =urban.get_group(True).groupby(['class'])\n",
    "urban_true_with_class.size().plot.bar()"
   ]
  },
  {
   "cell_type": "markdown",
   "metadata": {},
   "source": [
    "#### class"
   ]
  },
  {
   "cell_type": "code",
   "execution_count": 19,
   "metadata": {},
   "outputs": [
    {
     "data": {
      "text/plain": [
       "class\n",
       "0    1611\n",
       "1     920\n",
       "2    1478\n",
       "3     889\n",
       "4     851\n",
       "5    1411\n",
       "dtype: int64"
      ]
     },
     "execution_count": 19,
     "metadata": {},
     "output_type": "execute_result"
    }
   ],
   "source": [
    "class_ = df_train.groupby(['class'])\n",
    "class_.size()"
   ]
  },
  {
   "cell_type": "markdown",
   "metadata": {},
   "source": [
    "#### pressure"
   ]
  },
  {
   "cell_type": "code",
   "execution_count": 20,
   "metadata": {},
   "outputs": [
    {
     "data": {
      "text/plain": [
       "pressure\n",
       "996.33      3\n",
       "996.86      4\n",
       "999.47      1\n",
       "999.67      1\n",
       "1000.39     1\n",
       "1000.51     2\n",
       "1000.70     1\n",
       "1000.89     1\n",
       "1000.91     5\n",
       "1000.92     3\n",
       "1000.98    11\n",
       "1001.00     7\n",
       "1001.02     2\n",
       "1001.10     2\n",
       "1001.14     1\n",
       "1001.18     4\n",
       "1001.19     3\n",
       "1001.20     3\n",
       "1001.32     3\n",
       "1001.37     4\n",
       "1001.42     2\n",
       "1001.49     1\n",
       "1001.51     3\n",
       "1001.58    11\n",
       "1001.67     1\n",
       "1001.74     1\n",
       "1001.80     1\n",
       "1001.81     2\n",
       "1001.85     2\n",
       "1001.90     2\n",
       "           ..\n",
       "1027.46     1\n",
       "1027.47     1\n",
       "1027.50     1\n",
       "1027.53     1\n",
       "1027.79     1\n",
       "1027.98     1\n",
       "1028.06     1\n",
       "1028.11     1\n",
       "1028.15     1\n",
       "1028.32     2\n",
       "1028.36     1\n",
       "1028.39     1\n",
       "1028.50     2\n",
       "1028.56     3\n",
       "1028.57     1\n",
       "1028.73     3\n",
       "1028.97     2\n",
       "1028.99     1\n",
       "1029.08     3\n",
       "1029.13     1\n",
       "1029.14     3\n",
       "1029.17     1\n",
       "1029.19     5\n",
       "1029.63     2\n",
       "1030.19     3\n",
       "1030.72     6\n",
       "1033.47     3\n",
       "1033.48     6\n",
       "1033.54     1\n",
       "1034.17     1\n",
       "Length: 1523, dtype: int64"
      ]
     },
     "execution_count": 20,
     "metadata": {},
     "output_type": "execute_result"
    }
   ],
   "source": [
    "pressure_ = df_train.groupby(['pressure'])\n",
    "pressure_.size()"
   ]
  },
  {
   "cell_type": "code",
   "execution_count": 21,
   "metadata": {},
   "outputs": [
    {
     "data": {
      "text/plain": [
       "pressure\n",
       "996.33      (0, 10]\n",
       "996.86      (0, 10]\n",
       "999.47      (0, 10]\n",
       "999.67      (0, 10]\n",
       "1000.39     (0, 10]\n",
       "1000.51     (0, 10]\n",
       "1000.70     (0, 10]\n",
       "1000.89     (0, 10]\n",
       "1000.91     (0, 10]\n",
       "1000.92     (0, 10]\n",
       "1000.98    (10, 20]\n",
       "1001.00     (0, 10]\n",
       "1001.02     (0, 10]\n",
       "1001.10     (0, 10]\n",
       "1001.14     (0, 10]\n",
       "1001.18     (0, 10]\n",
       "1001.19     (0, 10]\n",
       "1001.20     (0, 10]\n",
       "1001.32     (0, 10]\n",
       "1001.37     (0, 10]\n",
       "1001.42     (0, 10]\n",
       "1001.49     (0, 10]\n",
       "1001.51     (0, 10]\n",
       "1001.58    (10, 20]\n",
       "1001.67     (0, 10]\n",
       "1001.74     (0, 10]\n",
       "1001.80     (0, 10]\n",
       "1001.81     (0, 10]\n",
       "1001.85     (0, 10]\n",
       "1001.90     (0, 10]\n",
       "             ...   \n",
       "1027.46     (0, 10]\n",
       "1027.47     (0, 10]\n",
       "1027.50     (0, 10]\n",
       "1027.53     (0, 10]\n",
       "1027.79     (0, 10]\n",
       "1027.98     (0, 10]\n",
       "1028.06     (0, 10]\n",
       "1028.11     (0, 10]\n",
       "1028.15     (0, 10]\n",
       "1028.32     (0, 10]\n",
       "1028.36     (0, 10]\n",
       "1028.39     (0, 10]\n",
       "1028.50     (0, 10]\n",
       "1028.56     (0, 10]\n",
       "1028.57     (0, 10]\n",
       "1028.73     (0, 10]\n",
       "1028.97     (0, 10]\n",
       "1028.99     (0, 10]\n",
       "1029.08     (0, 10]\n",
       "1029.13     (0, 10]\n",
       "1029.14     (0, 10]\n",
       "1029.17     (0, 10]\n",
       "1029.19     (0, 10]\n",
       "1029.63     (0, 10]\n",
       "1030.19     (0, 10]\n",
       "1030.72     (0, 10]\n",
       "1033.47     (0, 10]\n",
       "1033.48     (0, 10]\n",
       "1033.54     (0, 10]\n",
       "1034.17     (0, 10]\n",
       "Length: 1523, dtype: category\n",
       "Categories (10, interval[int64]): [(0, 10] < (10, 20] < (20, 30] < (30, 40] ... (60, 70] < (70, 80] < (80, 90] < (90, 100]]"
      ]
     },
     "execution_count": 21,
     "metadata": {},
     "output_type": "execute_result"
    }
   ],
   "source": [
    "pressure_ = df_train.groupby(['pressure'])\n",
    "pd.cut(pressure_.size(), np.arange(0, 101, 10))"
   ]
  },
  {
   "cell_type": "code",
   "execution_count": 22,
   "metadata": {},
   "outputs": [
    {
     "data": {
      "text/plain": [
       "<matplotlib.axes._subplots.AxesSubplot at 0x17213cf8400>"
      ]
     },
     "execution_count": 22,
     "metadata": {},
     "output_type": "execute_result"
    },
    {
     "data": {
      "image/png": "[encoded data removed]",
      "text/plain": [
       "<Figure size 1440x648 with 2 Axes>"
      ]
     },
     "metadata": {
      "needs_background": "light"
     },
     "output_type": "display_data"
    }
   ],
   "source": [
    "corrmat = df_train.corr()\n",
    "f, ax = plt.subplots(figsize=(20, 9))\n",
    "sns.heatmap(corrmat, vmax=.8, square=True)"
   ]
  },
  {
   "cell_type": "code",
   "execution_count": 23,
   "metadata": {},
   "outputs": [
    {
     "name": "stderr",
     "output_type": "stream",
     "text": [
      "Using TensorFlow backend.\n"
     ]
    }
   ],
   "source": [
    "import numpy as np\n",
    "import tensorflow as tf\n",
    "import matplotlib.pyplot as plt\n",
    "from tensorflow.keras.layers import Dense, Dropout\n",
    "\n",
    "from keras import regularizers"
   ]
  },
  {
   "cell_type": "code",
   "execution_count": 24,
   "metadata": {},
   "outputs": [
    {
     "name": "stderr",
     "output_type": "stream",
     "text": [
      "C:\\Users\\tim23\\AppData\\Local\\Continuum\\anaconda3\\lib\\site-packages\\ipykernel_launcher.py:3: FutureWarning: Sorting because non-concatenation axis is not aligned. A future version\n",
      "of pandas will change to not sort by default.\n",
      "\n",
      "To accept the future behavior, pass 'sort=False'.\n",
      "\n",
      "To retain the current behavior and silence the warning, pass 'sort=True'.\n",
      "\n",
      "  This is separate from the ipykernel package so we can avoid doing imports until\n"
     ]
    },
    {
     "data": {
      "text/html": [
       "<div>\n",
       "<style scoped>\n",
       "    .dataframe tbody tr th:only-of-type {\n",
       "        vertical-align: middle;\n",
       "    }\n",
       "\n",
       "    .dataframe tbody tr th {\n",
       "        vertical-align: top;\n",
       "    }\n",
       "\n",
       "    .dataframe thead th {\n",
       "        text-align: right;\n",
       "    }\n",
       "</style>\n",
       "<table border=\"1\" class=\"dataframe\">\n",
       "  <thead>\n",
       "    <tr style=\"text-align: right;\">\n",
       "      <th></th>\n",
       "      <th>ID</th>\n",
       "      <th>appearedHour</th>\n",
       "      <th>appearedMinute</th>\n",
       "      <th>appearedTimeOfDay</th>\n",
       "      <th>city</th>\n",
       "      <th>closeToWater</th>\n",
       "      <th>continent</th>\n",
       "      <th>cooc_1</th>\n",
       "      <th>cooc_10</th>\n",
       "      <th>cooc_100</th>\n",
       "      <th>...</th>\n",
       "      <th>population_density</th>\n",
       "      <th>pressure</th>\n",
       "      <th>rural</th>\n",
       "      <th>suburban</th>\n",
       "      <th>temperature</th>\n",
       "      <th>terrainType</th>\n",
       "      <th>urban</th>\n",
       "      <th>weather</th>\n",
       "      <th>weatherIcon</th>\n",
       "      <th>windSpeed</th>\n",
       "    </tr>\n",
       "  </thead>\n",
       "  <tbody>\n",
       "    <tr>\n",
       "      <th>0</th>\n",
       "      <td>NzM4OTYzMzQxNTMyNzc1MDQ0NQ==</td>\n",
       "      <td>19</td>\n",
       "      <td>10</td>\n",
       "      <td>evening</td>\n",
       "      <td>Bangkok</td>\n",
       "      <td>False</td>\n",
       "      <td>Asia</td>\n",
       "      <td>False</td>\n",
       "      <td>True</td>\n",
       "      <td>False</td>\n",
       "      <td>...</td>\n",
       "      <td>6019.04440</td>\n",
       "      <td>1008.96</td>\n",
       "      <td>False</td>\n",
       "      <td>True</td>\n",
       "      <td>27.8</td>\n",
       "      <td>13</td>\n",
       "      <td>True</td>\n",
       "      <td>Clear</td>\n",
       "      <td>clear-day</td>\n",
       "      <td>9.00</td>\n",
       "    </tr>\n",
       "    <tr>\n",
       "      <th>1</th>\n",
       "      <td>NDEwMjE0MzYwNzUyMjE2OTI0NQ==</td>\n",
       "      <td>5</td>\n",
       "      <td>19</td>\n",
       "      <td>night</td>\n",
       "      <td>New_York</td>\n",
       "      <td>True</td>\n",
       "      <td>America</td>\n",
       "      <td>False</td>\n",
       "      <td>False</td>\n",
       "      <td>False</td>\n",
       "      <td>...</td>\n",
       "      <td>0.00000</td>\n",
       "      <td>1018.96</td>\n",
       "      <td>True</td>\n",
       "      <td>False</td>\n",
       "      <td>26.1</td>\n",
       "      <td>13</td>\n",
       "      <td>False</td>\n",
       "      <td>Clear</td>\n",
       "      <td>clear-night</td>\n",
       "      <td>8.70</td>\n",
       "    </tr>\n",
       "    <tr>\n",
       "      <th>2</th>\n",
       "      <td>OTQ3NzU5MTA4MzgzODg2NzYxMw==</td>\n",
       "      <td>19</td>\n",
       "      <td>46</td>\n",
       "      <td>evening</td>\n",
       "      <td>New_York</td>\n",
       "      <td>True</td>\n",
       "      <td>America</td>\n",
       "      <td>False</td>\n",
       "      <td>False</td>\n",
       "      <td>False</td>\n",
       "      <td>...</td>\n",
       "      <td>0.00000</td>\n",
       "      <td>1023.22</td>\n",
       "      <td>True</td>\n",
       "      <td>False</td>\n",
       "      <td>24.7</td>\n",
       "      <td>0</td>\n",
       "      <td>False</td>\n",
       "      <td>Clear</td>\n",
       "      <td>clear-day</td>\n",
       "      <td>16.82</td>\n",
       "    </tr>\n",
       "    <tr>\n",
       "      <th>3</th>\n",
       "      <td>MTU2OTA5MTcyMDMzOTc0NzczODk=</td>\n",
       "      <td>11</td>\n",
       "      <td>10</td>\n",
       "      <td>morning</td>\n",
       "      <td>Hobart</td>\n",
       "      <td>True</td>\n",
       "      <td>Australia</td>\n",
       "      <td>False</td>\n",
       "      <td>False</td>\n",
       "      <td>False</td>\n",
       "      <td>...</td>\n",
       "      <td>128.89505</td>\n",
       "      <td>1014.19</td>\n",
       "      <td>True</td>\n",
       "      <td>False</td>\n",
       "      <td>12.7</td>\n",
       "      <td>0</td>\n",
       "      <td>False</td>\n",
       "      <td>Clear</td>\n",
       "      <td>clear-night</td>\n",
       "      <td>13.25</td>\n",
       "    </tr>\n",
       "    <tr>\n",
       "      <th>4</th>\n",
       "      <td>NTE2OTkxNjE3OTUzODY0MTE4MQ==</td>\n",
       "      <td>18</td>\n",
       "      <td>32</td>\n",
       "      <td>evening</td>\n",
       "      <td>Los_Angeles</td>\n",
       "      <td>True</td>\n",
       "      <td>America</td>\n",
       "      <td>False</td>\n",
       "      <td>False</td>\n",
       "      <td>False</td>\n",
       "      <td>...</td>\n",
       "      <td>4188.39100</td>\n",
       "      <td>1011.36</td>\n",
       "      <td>False</td>\n",
       "      <td>True</td>\n",
       "      <td>19.1</td>\n",
       "      <td>13</td>\n",
       "      <td>True</td>\n",
       "      <td>PartlyCloudy</td>\n",
       "      <td>partly-cloudy-day</td>\n",
       "      <td>5.78</td>\n",
       "    </tr>\n",
       "    <tr>\n",
       "      <th>5</th>\n",
       "      <td>NDIxMTM5NjUwODY2MzMxNTQwNQ==</td>\n",
       "      <td>13</td>\n",
       "      <td>7</td>\n",
       "      <td>afternoon</td>\n",
       "      <td>Kuching</td>\n",
       "      <td>False</td>\n",
       "      <td>Asia</td>\n",
       "      <td>False</td>\n",
       "      <td>False</td>\n",
       "      <td>False</td>\n",
       "      <td>...</td>\n",
       "      <td>411.31375</td>\n",
       "      <td>1011.04</td>\n",
       "      <td>False</td>\n",
       "      <td>True</td>\n",
       "      <td>25.0</td>\n",
       "      <td>13</td>\n",
       "      <td>False</td>\n",
       "      <td>Clear</td>\n",
       "      <td>clear-day</td>\n",
       "      <td>1.88</td>\n",
       "    </tr>\n",
       "    <tr>\n",
       "      <th>6</th>\n",
       "      <td>MTQyMzc1MTk5OTQ5NTU0NDYzOTc=</td>\n",
       "      <td>4</td>\n",
       "      <td>1</td>\n",
       "      <td>night</td>\n",
       "      <td>Mexico_City</td>\n",
       "      <td>False</td>\n",
       "      <td>America</td>\n",
       "      <td>False</td>\n",
       "      <td>False</td>\n",
       "      <td>False</td>\n",
       "      <td>...</td>\n",
       "      <td>2431.23410</td>\n",
       "      <td>1018.00</td>\n",
       "      <td>False</td>\n",
       "      <td>True</td>\n",
       "      <td>26.7</td>\n",
       "      <td>14</td>\n",
       "      <td>True</td>\n",
       "      <td>Clear</td>\n",
       "      <td>clear-night</td>\n",
       "      <td>1.01</td>\n",
       "    </tr>\n",
       "    <tr>\n",
       "      <th>7</th>\n",
       "      <td>NDIxODg3ODg5MTc0MjA0MDQ0NQ==</td>\n",
       "      <td>15</td>\n",
       "      <td>19</td>\n",
       "      <td>afternoon</td>\n",
       "      <td>New_York</td>\n",
       "      <td>True</td>\n",
       "      <td>America</td>\n",
       "      <td>False</td>\n",
       "      <td>False</td>\n",
       "      <td>False</td>\n",
       "      <td>...</td>\n",
       "      <td>0.00000</td>\n",
       "      <td>1019.61</td>\n",
       "      <td>True</td>\n",
       "      <td>False</td>\n",
       "      <td>29.7</td>\n",
       "      <td>0</td>\n",
       "      <td>False</td>\n",
       "      <td>Clear</td>\n",
       "      <td>clear-day</td>\n",
       "      <td>4.82</td>\n",
       "    </tr>\n",
       "    <tr>\n",
       "      <th>8</th>\n",
       "      <td>MTQyNTE3NTc3NzU4MjYzNDM5MTc=</td>\n",
       "      <td>22</td>\n",
       "      <td>18</td>\n",
       "      <td>night</td>\n",
       "      <td>Chicago</td>\n",
       "      <td>False</td>\n",
       "      <td>America</td>\n",
       "      <td>False</td>\n",
       "      <td>False</td>\n",
       "      <td>False</td>\n",
       "      <td>...</td>\n",
       "      <td>849.44226</td>\n",
       "      <td>1012.09</td>\n",
       "      <td>False</td>\n",
       "      <td>True</td>\n",
       "      <td>26.2</td>\n",
       "      <td>13</td>\n",
       "      <td>True</td>\n",
       "      <td>PartlyCloudy</td>\n",
       "      <td>partly-cloudy-day</td>\n",
       "      <td>6.26</td>\n",
       "    </tr>\n",
       "    <tr>\n",
       "      <th>9</th>\n",
       "      <td>MTA0MjI1MTc0MjEzMzcyMzM0Mzc=</td>\n",
       "      <td>15</td>\n",
       "      <td>36</td>\n",
       "      <td>afternoon</td>\n",
       "      <td>New_York</td>\n",
       "      <td>True</td>\n",
       "      <td>America</td>\n",
       "      <td>False</td>\n",
       "      <td>False</td>\n",
       "      <td>True</td>\n",
       "      <td>...</td>\n",
       "      <td>0.00000</td>\n",
       "      <td>1020.64</td>\n",
       "      <td>True</td>\n",
       "      <td>False</td>\n",
       "      <td>28.1</td>\n",
       "      <td>0</td>\n",
       "      <td>False</td>\n",
       "      <td>PartlyCloudy</td>\n",
       "      <td>partly-cloudy-day</td>\n",
       "      <td>6.43</td>\n",
       "    </tr>\n",
       "  </tbody>\n",
       "</table>\n",
       "<p>10 rows × 184 columns</p>\n",
       "</div>"
      ],
      "text/plain": [
       "                             ID  appearedHour  appearedMinute  \\\n",
       "0  NzM4OTYzMzQxNTMyNzc1MDQ0NQ==            19              10   \n",
       "1  NDEwMjE0MzYwNzUyMjE2OTI0NQ==             5              19   \n",
       "2  OTQ3NzU5MTA4MzgzODg2NzYxMw==            19              46   \n",
       "3  MTU2OTA5MTcyMDMzOTc0NzczODk=            11              10   \n",
       "4  NTE2OTkxNjE3OTUzODY0MTE4MQ==            18              32   \n",
       "5  NDIxMTM5NjUwODY2MzMxNTQwNQ==            13               7   \n",
       "6  MTQyMzc1MTk5OTQ5NTU0NDYzOTc=             4               1   \n",
       "7  NDIxODg3ODg5MTc0MjA0MDQ0NQ==            15              19   \n",
       "8  MTQyNTE3NTc3NzU4MjYzNDM5MTc=            22              18   \n",
       "9  MTA0MjI1MTc0MjEzMzcyMzM0Mzc=            15              36   \n",
       "\n",
       "  appearedTimeOfDay         city  closeToWater  continent  cooc_1  cooc_10  \\\n",
       "0           evening      Bangkok         False       Asia   False     True   \n",
       "1             night     New_York          True    America   False    False   \n",
       "2           evening     New_York          True    America   False    False   \n",
       "3           morning       Hobart          True  Australia   False    False   \n",
       "4           evening  Los_Angeles          True    America   False    False   \n",
       "5         afternoon      Kuching         False       Asia   False    False   \n",
       "6             night  Mexico_City         False    America   False    False   \n",
       "7         afternoon     New_York          True    America   False    False   \n",
       "8             night      Chicago         False    America   False    False   \n",
       "9         afternoon     New_York          True    America   False    False   \n",
       "\n",
       "   cooc_100  ...  population_density  pressure  rural  suburban  temperature  \\\n",
       "0     False  ...          6019.04440   1008.96  False      True         27.8   \n",
       "1     False  ...             0.00000   1018.96   True     False         26.1   \n",
       "2     False  ...             0.00000   1023.22   True     False         24.7   \n",
       "3     False  ...           128.89505   1014.19   True     False         12.7   \n",
       "4     False  ...          4188.39100   1011.36  False      True         19.1   \n",
       "5     False  ...           411.31375   1011.04  False      True         25.0   \n",
       "6     False  ...          2431.23410   1018.00  False      True         26.7   \n",
       "7     False  ...             0.00000   1019.61   True     False         29.7   \n",
       "8     False  ...           849.44226   1012.09  False      True         26.2   \n",
       "9      True  ...             0.00000   1020.64   True     False         28.1   \n",
       "\n",
       "   terrainType  urban       weather        weatherIcon  windSpeed  \n",
       "0           13   True         Clear          clear-day       9.00  \n",
       "1           13  False         Clear        clear-night       8.70  \n",
       "2            0  False         Clear          clear-day      16.82  \n",
       "3            0  False         Clear        clear-night      13.25  \n",
       "4           13   True  PartlyCloudy  partly-cloudy-day       5.78  \n",
       "5           13  False         Clear          clear-day       1.88  \n",
       "6           14   True         Clear        clear-night       1.01  \n",
       "7            0  False         Clear          clear-day       4.82  \n",
       "8           13   True  PartlyCloudy  partly-cloudy-day       6.26  \n",
       "9            0  False  PartlyCloudy  partly-cloudy-day       6.43  \n",
       "\n",
       "[10 rows x 184 columns]"
      ]
     },
     "execution_count": 24,
     "metadata": {},
     "output_type": "execute_result"
    }
   ],
   "source": [
    "df_train_drop_class = df_train.drop(columns='class')\n",
    "# pd.concat([])\n",
    "df_total = pd.concat([df_train_drop_class, df_test], axis=0)\n",
    "df_total.head(10)"
   ]
  },
  {
   "cell_type": "code",
   "execution_count": 25,
   "metadata": {},
   "outputs": [],
   "source": [
    "from sklearn.feature_selection import SelectKBest, chi2, mutual_info_classif"
   ]
  },
  {
   "cell_type": "code",
   "execution_count": 26,
   "metadata": {},
   "outputs": [],
   "source": [
    "y_train = df_train['class']\n",
    "df_total_x = df_total[['pressure', 'cooc_81', 'cooc_19', 'rural', 'cooc_13',\n",
    "       'closeToWater', 'terrainType', 'appearedHour', 'cooc_43',\n",
    "       'pokestopIn500m', 'pokestopIn1000m', 'pokestopIn250m', 'gymIn500m',\n",
    "       'cooc_21', 'cooc_16', 'pokestopIn100m', 'cooc_10', 'gymIn250m',\n",
    "       'cooc_69', 'appearedTimeOfDay', 'weather']]\n",
    "\n",
    "df_total_2 = df_total_x[['pokestopIn500m', 'pokestopIn1000m', 'pokestopIn250m', 'gymIn500m']]\n",
    "\n",
    "df_total_3 = df_total_x[['pokestopIn500m', 'pokestopIn1000m', 'pokestopIn250m', 'gymIn500m', 'pokestopIn100m', 'gymIn250m']]\n",
    "\n",
    "df_total_4 = df_total_x[[ 'appearedHour', 'pokestopIn500m', 'pokestopIn1000m', 'pokestopIn250m', 'gymIn500m', 'pokestopIn100m', 'gymIn250m']]\n",
    "\n",
    "df_total_5 = df_total_x[[ 'closeToWater', 'appearedHour', 'pokestopIn500m', 'pokestopIn1000m', 'pokestopIn250m', 'gymIn500m', 'pokestopIn100m', 'gymIn250m']]\n",
    "\n",
    "df_total_6 = df_total_x[[ 'terrainType', 'closeToWater', 'appearedHour', 'pokestopIn500m', 'pokestopIn1000m', 'pokestopIn250m', 'gymIn500m', 'pokestopIn100m', 'gymIn250m']]\n",
    "\n",
    "df_total_7 = df_total_x[[ 'appearedTimeOfDay', 'terrainType', 'closeToWater', 'appearedHour', 'pokestopIn500m', 'pokestopIn1000m', 'pokestopIn250m', 'gymIn500m', 'pokestopIn100m', 'gymIn250m']]\n",
    "\n",
    "df_total_8 = df_total_x[[ 'weather','appearedTimeOfDay', 'terrainType', 'closeToWater', 'appearedHour', 'pokestopIn500m', 'pokestopIn1000m', 'pokestopIn250m', 'gymIn500m', 'pokestopIn100m', 'gymIn250m']]\n",
    "\n",
    "dummy_df_7 = pd.get_dummies(df_total_7)\n",
    "\n",
    "dummy_df_8 = pd.get_dummies(df_total_8)\n"
   ]
  },
  {
   "cell_type": "code",
   "execution_count": 27,
   "metadata": {},
   "outputs": [],
   "source": [
    "def appear_time_to_number(df):\n",
    "    \"\"\"\n",
    "    feature scaling\n",
    "    appearedTimeOfDay\n",
    "    afternoon    1322\n",
    "    evening      1233\n",
    "    morning      1657\n",
    "    night        4739\n",
    "    :param df:\n",
    "    :return: custom number\n",
    "    \"\"\"\n",
    "    if df['appearedTimeOfDay'] == 'afternoon':\n",
    "        return 0\n",
    "    elif df['appearedTimeOfDay'] == 'evening':\n",
    "        return 1\n",
    "    elif df['appearedTimeOfDay'] == 'morning':\n",
    "        return 2\n",
    "    elif df['appearedTimeOfDay'] == 'night':\n",
    "        return 3"
   ]
  },
  {
   "cell_type": "code",
   "execution_count": 28,
   "metadata": {},
   "outputs": [],
   "source": [
    "def weather_machine_(df):\n",
    "    if df['weather'] == 'Clear':\n",
    "        return -.5\n",
    "    elif df['weather'] == 'PartlyCloudy':\n",
    "        return .75\n",
    "    elif df['weather'] == 'MostlyCloudy':\n",
    "        return .48\n",
    "    elif df['weather'] == 'Overcast':\n",
    "        return .5\n",
    "    elif df['weather'] == 'LightRain':\n",
    "        return .3\n",
    "    elif df['weather'] == 'Breezy':\n",
    "        return -1\n",
    "    elif df['weather'] == 'Drizzle':\n",
    "        return -.3\n",
    "    elif df['weather'] == 'rain':\n",
    "        return .8\n",
    "    else:\n",
    "        return 0\n"
   ]
  },
  {
   "cell_type": "code",
   "execution_count": 65,
   "metadata": {},
   "outputs": [],
   "source": [
    "def continent_machine_(df):\n",
    "    if df['continent'] == 'Africa':\n",
    "        return -1\n",
    "    elif df['continent'] == 'America':\n",
    "        return -0.75\n",
    "    elif df['continent'] == 'America/Argentina':\n",
    "        return -0.5\n",
    "    elif df['continent'] == 'America/Indiana':\n",
    "        return 0\n",
    "    elif df['continent'] == 'Asia':\n",
    "        return .125\n",
    "    elif df['continent'] == 'Australia':\n",
    "        return .3\n",
    "    elif df['continent'] == 'Europe':\n",
    "        return .75\n",
    "    elif df['continent'] == 'Pacific':\n",
    "        return 1"
   ]
  },
  {
   "cell_type": "code",
   "execution_count": 86,
   "metadata": {},
   "outputs": [],
   "source": [
    "def continent_machine_2(df):\n",
    "    if df['continent'] == 'America':\n",
    "        return 4\n",
    "    elif df['continent'] == 'Asia':\n",
    "        return 3\n",
    "    elif df['continent'] == 'Europe':\n",
    "        return 2\n",
    "    elif df['continent'] == 'Australia':\n",
    "        return 1\n",
    "    else:\n",
    "        return 0"
   ]
  },
  {
   "cell_type": "markdown",
   "metadata": {},
   "source": [
    "### sklearn features selection "
   ]
  },
  {
   "cell_type": "code",
   "execution_count": 106,
   "metadata": {},
   "outputs": [
    {
     "data": {
      "text/plain": [
       "array([[19, 10, 1, ..., 0, 0, 0],\n",
       "       [5, 19, 3, ..., 0, 0, 0],\n",
       "       [19, 46, 1, ..., 0, 0, 0],\n",
       "       ...,\n",
       "       [15, 53, 0, ..., 0, 0, 0],\n",
       "       [0, 28, 3, ..., 0, 0, 0],\n",
       "       [7, 19, 2, ..., 0, 0, 0]], dtype=object)"
      ]
     },
     "execution_count": 106,
     "metadata": {},
     "output_type": "execute_result"
    }
   ],
   "source": [
    "from sklearn import preprocessing\n",
    "\n",
    "y_train = df_train['class']\n",
    "# 拿掉 ID\n",
    "df_toal_drop_ID = df_total.drop(columns='ID')\n",
    "\n",
    "# 拿掉 city --> city 不要拿 accuracy 會降!\n",
    "df_toal_drop_ID_city = df_toal_drop_ID.drop(columns='city')\n",
    "\n",
    "# 拿掉 conteinent --> 2019/08/24 下午五點！　不拿\n",
    "df_toal_drop_ID_conteinent = df_toal_drop_ID.drop(columns='continent')\n",
    "\n",
    "# 拿掉 id\n",
    "df_toal_drop_ID_conteinent_id = df_toal_drop_ID.drop(columns='id')\n",
    "\n",
    "\n",
    "\"\"\"\n",
    "feature engineering: \n",
    "    1. sklearn.preprocessing.minmax_scale\n",
    "       appearedTimeOfDay, terrainType, temperature, windSpeed, pressure, population_density, pokestopDistanceKm, gymDistanceKm\n",
    "    2. sklearn.preprocessing.label_binarize\n",
    "       urban, rural, gymIn100m, gymIn2500m, gymIn250m, gymIn5000m, gymIn500m,\n",
    "       suburban, midurban , closeToWater\n",
    "       pokestopIn100m pokestopIn2500m pokestopIn250m pokestopIn5000m pokestopIn500m\n",
    "\"\"\"\n",
    "df_ready_feature_engineering = df_toal_drop_ID_conteinent_id\n",
    "\n",
    "# custom feature engineering apply\n",
    "df_ready_feature_engineering['appearedTimeOfDay'] = df_ready_feature_engineering.apply(appear_time_to_number, axis=1)\n",
    "\n",
    "# weather\n",
    "df_ready_feature_engineering['weather'] = df_ready_feature_engineering.apply(weather_machine_, axis=1)\n",
    "df_ready_feature_engineering['weather'] = preprocessing.minmax_scale(df_ready_feature_engineering['weather'])\n",
    "\n",
    "# continent\n",
    "df_ready_feature_engineering['continent'] = df_ready_feature_engineering.apply(continent_machine_2, axis=1)\n",
    "# df_ready_feature_engineering['continent'] = preprocessing.minmax_scale(df_ready_feature_engineering['continent'])\n",
    "\n",
    "# sklearn.preprocessing.minmax_scale\n",
    "df_ready_feature_engineering['terrainType'] = preprocessing.minmax_scale(df_ready_feature_engineering['terrainType'])\n",
    "df_ready_feature_engineering['temperature'] = preprocessing.minmax_scale(df_ready_feature_engineering['temperature'])\n",
    "df_ready_feature_engineering['windSpeed'] = preprocessing.minmax_scale(df_ready_feature_engineering['windSpeed'])\n",
    "df_ready_feature_engineering['pressure'] = preprocessing.minmax_scale(df_ready_feature_engineering['pressure'])\n",
    "# 突破! 讓我進到 baseline!\n",
    "df_ready_feature_engineering['population_density'] = preprocessing.minmax_scale(df_ready_feature_engineering['population_density'])\n",
    "\n",
    "df_ready_feature_engineering['pokestopDistanceKm'] = preprocessing.minmax_scale(df_ready_feature_engineering['pokestopDistanceKm']).round(6)\n",
    "df_ready_feature_engineering['gymDistanceKm'] = preprocessing.minmax_scale(df_ready_feature_engineering['gymDistanceKm']).round(6)\n",
    "\n",
    "# binarize\n",
    "df_ready_feature_engineering['urban'] = preprocessing.label_binarize(df_ready_feature_engineering['urban'], [1, 0])\n",
    "df_ready_feature_engineering['rural'] = preprocessing.label_binarize(df_ready_feature_engineering['rural'], [1, 0])\n",
    "df_ready_feature_engineering['suburban'] = preprocessing.label_binarize(df_ready_feature_engineering['suburban'], [1, 0])\n",
    "df_ready_feature_engineering['midurban'] = preprocessing.label_binarize(df_ready_feature_engineering['midurban'], [1, 0])\n",
    "df_ready_feature_engineering['closeToWater'] = preprocessing.label_binarize(df_ready_feature_engineering['closeToWater'], [1, 0])\n",
    "\n",
    "df_ready_feature_engineering['gymIn100m'] = preprocessing.label_binarize(df_ready_feature_engineering['gymIn100m'], [1, 0])\n",
    "df_ready_feature_engineering['gymIn2500m'] = preprocessing.label_binarize(df_ready_feature_engineering['gymIn2500m'], [1, 0])\n",
    "df_ready_feature_engineering['gymIn250m'] = preprocessing.label_binarize(df_ready_feature_engineering['gymIn250m'], [1, 0])\n",
    "df_ready_feature_engineering['gymIn5000m'] = preprocessing.label_binarize(df_ready_feature_engineering['gymIn5000m'], [1, 0])\n",
    "df_ready_feature_engineering['gymIn500m'] = preprocessing.label_binarize(df_ready_feature_engineering['gymIn500m'], [1, 0])\n",
    "\n",
    "df_ready_feature_engineering['pokestopIn100m'] = preprocessing.label_binarize(df_ready_feature_engineering['pokestopIn100m'], [1, 0])\n",
    "df_ready_feature_engineering['pokestopIn2500m'] = preprocessing.label_binarize(df_ready_feature_engineering['pokestopIn2500m'], [1, 0])\n",
    "df_ready_feature_engineering['pokestopIn250m'] = preprocessing.label_binarize(df_ready_feature_engineering['pokestopIn250m'], [1, 0])\n",
    "df_ready_feature_engineering['pokestopIn5000m'] = preprocessing.label_binarize(df_ready_feature_engineering['pokestopIn5000m'], [1, 0])\n",
    "df_ready_feature_engineering['pokestopIn500m'] = preprocessing.label_binarize(df_ready_feature_engineering['pokestopIn500m'], [1, 0])\n",
    "\n",
    "for i in range(150):\n",
    "    df_ready_feature_engineering['cooc_{}'.format(i+1)] = preprocessing.label_binarize(df_ready_feature_engineering['cooc_{}'.format(i+1)], [1, 0] )\n",
    "\n",
    "\n",
    "dummy_total =pd.get_dummies(df_ready_feature_engineering)\n",
    "\n",
    "x_train_dummy_total = dummy_total[:7160]\n",
    "x_test_dummy_total = dummy_total[7160:]\n",
    "\n",
    "df_total_x_selector = SelectKBest(chi2, k=200)\n",
    "df_total_x_selector.fit_transform(x_train_dummy_total, y_train)\n",
    "\n"
   ]
  },
  {
   "cell_type": "code",
   "execution_count": 107,
   "metadata": {},
   "outputs": [
    {
     "data": {
      "text/plain": [
       "(7160, 263)"
      ]
     },
     "execution_count": 107,
     "metadata": {},
     "output_type": "execute_result"
    }
   ],
   "source": [
    "x_train_dummy_total.shape"
   ]
  },
  {
   "cell_type": "code",
   "execution_count": 108,
   "metadata": {},
   "outputs": [
    {
     "data": {
      "text/plain": [
       "Index(['appearedHour', 'appearedMinute', 'appearedTimeOfDay', 'closeToWater',\n",
       "       'continent', 'cooc_1', 'cooc_10', 'cooc_100', 'cooc_101', 'cooc_102',\n",
       "       ...\n",
       "       'city_Zagreb', 'city_Zurich', 'weatherIcon_clear-day',\n",
       "       'weatherIcon_clear-night', 'weatherIcon_cloudy', 'weatherIcon_fog',\n",
       "       'weatherIcon_partly-cloudy-day', 'weatherIcon_partly-cloudy-night',\n",
       "       'weatherIcon_rain', 'weatherIcon_wind'],\n",
       "      dtype='object', length=200)"
      ]
     },
     "execution_count": 108,
     "metadata": {},
     "output_type": "execute_result"
    }
   ],
   "source": [
    "cols = df_total_x_selector.get_support(indices=True)\n",
    "feature_name = x_train_dummy_total.columns[cols]\n",
    "feature_name"
   ]
  },
  {
   "cell_type": "code",
   "execution_count": 109,
   "metadata": {},
   "outputs": [
    {
     "data": {
      "text/html": [
       "<div>\n",
       "<style scoped>\n",
       "    .dataframe tbody tr th:only-of-type {\n",
       "        vertical-align: middle;\n",
       "    }\n",
       "\n",
       "    .dataframe tbody tr th {\n",
       "        vertical-align: top;\n",
       "    }\n",
       "\n",
       "    .dataframe thead th {\n",
       "        text-align: right;\n",
       "    }\n",
       "</style>\n",
       "<table border=\"1\" class=\"dataframe\">\n",
       "  <thead>\n",
       "    <tr style=\"text-align: right;\">\n",
       "      <th></th>\n",
       "      <th>appearedHour</th>\n",
       "      <th>appearedMinute</th>\n",
       "      <th>appearedTimeOfDay</th>\n",
       "      <th>closeToWater</th>\n",
       "      <th>continent</th>\n",
       "      <th>cooc_1</th>\n",
       "      <th>cooc_10</th>\n",
       "      <th>cooc_100</th>\n",
       "      <th>cooc_101</th>\n",
       "      <th>cooc_102</th>\n",
       "      <th>...</th>\n",
       "      <th>city_Zagreb</th>\n",
       "      <th>city_Zurich</th>\n",
       "      <th>weatherIcon_clear-day</th>\n",
       "      <th>weatherIcon_clear-night</th>\n",
       "      <th>weatherIcon_cloudy</th>\n",
       "      <th>weatherIcon_fog</th>\n",
       "      <th>weatherIcon_partly-cloudy-day</th>\n",
       "      <th>weatherIcon_partly-cloudy-night</th>\n",
       "      <th>weatherIcon_rain</th>\n",
       "      <th>weatherIcon_wind</th>\n",
       "    </tr>\n",
       "  </thead>\n",
       "  <tbody>\n",
       "    <tr>\n",
       "      <th>0</th>\n",
       "      <td>8</td>\n",
       "      <td>26</td>\n",
       "      <td>2</td>\n",
       "      <td>1</td>\n",
       "      <td>2</td>\n",
       "      <td>1</td>\n",
       "      <td>1</td>\n",
       "      <td>1</td>\n",
       "      <td>1</td>\n",
       "      <td>1</td>\n",
       "      <td>...</td>\n",
       "      <td>0</td>\n",
       "      <td>0</td>\n",
       "      <td>0</td>\n",
       "      <td>0</td>\n",
       "      <td>0</td>\n",
       "      <td>0</td>\n",
       "      <td>1</td>\n",
       "      <td>0</td>\n",
       "      <td>0</td>\n",
       "      <td>0</td>\n",
       "    </tr>\n",
       "    <tr>\n",
       "      <th>1</th>\n",
       "      <td>2</td>\n",
       "      <td>35</td>\n",
       "      <td>3</td>\n",
       "      <td>0</td>\n",
       "      <td>4</td>\n",
       "      <td>1</td>\n",
       "      <td>1</td>\n",
       "      <td>1</td>\n",
       "      <td>1</td>\n",
       "      <td>1</td>\n",
       "      <td>...</td>\n",
       "      <td>0</td>\n",
       "      <td>0</td>\n",
       "      <td>0</td>\n",
       "      <td>0</td>\n",
       "      <td>0</td>\n",
       "      <td>0</td>\n",
       "      <td>1</td>\n",
       "      <td>0</td>\n",
       "      <td>0</td>\n",
       "      <td>0</td>\n",
       "    </tr>\n",
       "    <tr>\n",
       "      <th>2</th>\n",
       "      <td>0</td>\n",
       "      <td>5</td>\n",
       "      <td>3</td>\n",
       "      <td>0</td>\n",
       "      <td>4</td>\n",
       "      <td>1</td>\n",
       "      <td>1</td>\n",
       "      <td>1</td>\n",
       "      <td>1</td>\n",
       "      <td>1</td>\n",
       "      <td>...</td>\n",
       "      <td>0</td>\n",
       "      <td>0</td>\n",
       "      <td>0</td>\n",
       "      <td>0</td>\n",
       "      <td>0</td>\n",
       "      <td>0</td>\n",
       "      <td>1</td>\n",
       "      <td>0</td>\n",
       "      <td>0</td>\n",
       "      <td>0</td>\n",
       "    </tr>\n",
       "    <tr>\n",
       "      <th>3</th>\n",
       "      <td>7</td>\n",
       "      <td>38</td>\n",
       "      <td>2</td>\n",
       "      <td>0</td>\n",
       "      <td>2</td>\n",
       "      <td>1</td>\n",
       "      <td>1</td>\n",
       "      <td>0</td>\n",
       "      <td>1</td>\n",
       "      <td>1</td>\n",
       "      <td>...</td>\n",
       "      <td>0</td>\n",
       "      <td>0</td>\n",
       "      <td>0</td>\n",
       "      <td>0</td>\n",
       "      <td>0</td>\n",
       "      <td>0</td>\n",
       "      <td>1</td>\n",
       "      <td>0</td>\n",
       "      <td>0</td>\n",
       "      <td>0</td>\n",
       "    </tr>\n",
       "    <tr>\n",
       "      <th>4</th>\n",
       "      <td>1</td>\n",
       "      <td>27</td>\n",
       "      <td>3</td>\n",
       "      <td>1</td>\n",
       "      <td>4</td>\n",
       "      <td>1</td>\n",
       "      <td>1</td>\n",
       "      <td>1</td>\n",
       "      <td>1</td>\n",
       "      <td>1</td>\n",
       "      <td>...</td>\n",
       "      <td>0</td>\n",
       "      <td>0</td>\n",
       "      <td>1</td>\n",
       "      <td>0</td>\n",
       "      <td>0</td>\n",
       "      <td>0</td>\n",
       "      <td>0</td>\n",
       "      <td>0</td>\n",
       "      <td>0</td>\n",
       "      <td>0</td>\n",
       "    </tr>\n",
       "  </tbody>\n",
       "</table>\n",
       "<p>5 rows × 200 columns</p>\n",
       "</div>"
      ],
      "text/plain": [
       "   appearedHour  appearedMinute  appearedTimeOfDay  closeToWater  continent  \\\n",
       "0             8              26                  2             1          2   \n",
       "1             2              35                  3             0          4   \n",
       "2             0               5                  3             0          4   \n",
       "3             7              38                  2             0          2   \n",
       "4             1              27                  3             1          4   \n",
       "\n",
       "   cooc_1  cooc_10  cooc_100  cooc_101  cooc_102  ...  city_Zagreb  \\\n",
       "0       1        1         1         1         1  ...            0   \n",
       "1       1        1         1         1         1  ...            0   \n",
       "2       1        1         1         1         1  ...            0   \n",
       "3       1        1         0         1         1  ...            0   \n",
       "4       1        1         1         1         1  ...            0   \n",
       "\n",
       "   city_Zurich  weatherIcon_clear-day  weatherIcon_clear-night  \\\n",
       "0            0                      0                        0   \n",
       "1            0                      0                        0   \n",
       "2            0                      0                        0   \n",
       "3            0                      0                        0   \n",
       "4            0                      1                        0   \n",
       "\n",
       "   weatherIcon_cloudy  weatherIcon_fog  weatherIcon_partly-cloudy-day  \\\n",
       "0                   0                0                              1   \n",
       "1                   0                0                              1   \n",
       "2                   0                0                              1   \n",
       "3                   0                0                              1   \n",
       "4                   0                0                              0   \n",
       "\n",
       "   weatherIcon_partly-cloudy-night  weatherIcon_rain  weatherIcon_wind  \n",
       "0                                0                 0                 0  \n",
       "1                                0                 0                 0  \n",
       "2                                0                 0                 0  \n",
       "3                                0                 0                 0  \n",
       "4                                0                 0                 0  \n",
       "\n",
       "[5 rows x 200 columns]"
      ]
     },
     "execution_count": 109,
     "metadata": {},
     "output_type": "execute_result"
    }
   ],
   "source": [
    "x_test_dummy_total = x_test_dummy_total[feature_name]\n",
    "x_test_dummy_total.head()"
   ]
  },
  {
   "cell_type": "code",
   "execution_count": 110,
   "metadata": {},
   "outputs": [],
   "source": [
    "best_feature_total = dummy_total[feature_name]\n",
    "best_feature_total\n",
    "\n",
    "x_train_best = best_feature_total[:7160]\n",
    "x_test_best = best_feature_total[7160:]"
   ]
  },
  {
   "cell_type": "code",
   "execution_count": 111,
   "metadata": {},
   "outputs": [],
   "source": [
    "\n",
    "x_train = df_total[:7160]\n",
    "x_test = df_total[7160:]\n",
    "\n",
    "\n",
    "x_train_2 = df_total_2[:7160]\n",
    "x_test_2 = df_total_2[7160:]\n",
    "\n",
    "x_train_3 = df_total_3[:7160]\n",
    "x_test_3 = df_total_3[7160:]\n",
    "\n",
    "x_train_4 = df_total_4[:7160]\n",
    "x_test_4 = df_total_4[7160:]\n",
    "\n",
    "x_train_5 = df_total_5[:7160]\n",
    "x_test_5 = df_total_5[7160:]\n",
    "\n",
    "x_train_6 = df_total_6[:7160]\n",
    "x_test_6 = df_total_6[7160:]\n",
    "\n",
    "x_train_7 = dummy_df_7[:7160]\n",
    "x_test_7 = dummy_df_7[7160:]\n",
    "\n",
    "x_train_8 = dummy_df_8[:7160]\n",
    "x_test_8 = dummy_df_8[7160:]"
   ]
  },
  {
   "cell_type": "code",
   "execution_count": 112,
   "metadata": {},
   "outputs": [
    {
     "name": "stdout",
     "output_type": "stream",
     "text": [
      "x_train_7.shape:  (7160, 13)\n",
      "x_train_8.shape:  (7160, 38)\n"
     ]
    }
   ],
   "source": [
    "print('x_train_7.shape: ', x_train_7.shape)\n",
    "print('x_train_8.shape: ', x_train_8.shape)"
   ]
  },
  {
   "cell_type": "code",
   "execution_count": 96,
   "metadata": {},
   "outputs": [
    {
     "data": {
      "text/plain": [
       "184"
      ]
     },
     "execution_count": 96,
     "metadata": {},
     "output_type": "execute_result"
    }
   ],
   "source": [
    "len(x_train.columns)"
   ]
  },
  {
   "cell_type": "code",
   "execution_count": 97,
   "metadata": {},
   "outputs": [],
   "source": [
    "from keras.layers import BatchNormalization"
   ]
  },
  {
   "cell_type": "code",
   "execution_count": 117,
   "metadata": {},
   "outputs": [],
   "source": [
    "model = tf.keras.Sequential()"
   ]
  },
  {
   "cell_type": "code",
   "execution_count": 118,
   "metadata": {},
   "outputs": [
    {
     "name": "stdout",
     "output_type": "stream",
     "text": [
      "Model: \"sequential_6\"\n",
      "_________________________________________________________________\n",
      "Layer (type)                 Output Shape              Param #   \n",
      "=================================================================\n",
      "dense_28 (Dense)             (None, 50)                10050     \n",
      "_________________________________________________________________\n",
      "dropout_14 (Dropout)         (None, 50)                0         \n",
      "_________________________________________________________________\n",
      "dense_29 (Dense)             (None, 20)                1020      \n",
      "_________________________________________________________________\n",
      "dropout_15 (Dropout)         (None, 20)                0         \n",
      "_________________________________________________________________\n",
      "dense_30 (Dense)             (None, 12)                252       \n",
      "_________________________________________________________________\n",
      "dense_31 (Dense)             (None, 6)                 78        \n",
      "=================================================================\n",
      "Total params: 11,400\n",
      "Trainable params: 11,400\n",
      "Non-trainable params: 0\n",
      "_________________________________________________________________\n",
      "None\n"
     ]
    }
   ],
   "source": [
    "model.add(Dense(50, activation='relu', input_shape=(200, ), ))\n",
    "# model.add(Dense(20, activation='elu', kernel_regularizer=regularizers.l2(0.01),))\n",
    "model.add(Dropout(0.1))\n",
    "model.add(Dense(20, activation='relu', kernel_regularizer=regularizers.l2(0.01),))\n",
    "model.add(Dropout(0.1))\n",
    "model.add(Dense(12, activation='relu', kernel_regularizer=regularizers.l2(0.01)))\n",
    "model.add(Dense(6, activation='softmax'))\n",
    "\n",
    "print(model.summary())"
   ]
  },
  {
   "cell_type": "code",
   "execution_count": 119,
   "metadata": {},
   "outputs": [],
   "source": [
    "model.compile(loss='categorical_crossentropy',\n",
    "             optimizer=tf.keras.optimizers.Adam(),\n",
    "             metrics=['accuracy'])"
   ]
  },
  {
   "cell_type": "code",
   "execution_count": 120,
   "metadata": {},
   "outputs": [
    {
     "data": {
      "text/plain": [
       "array([[0., 0., 1., 0., 0., 0.],\n",
       "       [0., 0., 0., 0., 0., 1.],\n",
       "       [0., 0., 0., 1., 0., 0.],\n",
       "       ...,\n",
       "       [0., 0., 0., 0., 1., 0.],\n",
       "       [1., 0., 0., 0., 0., 0.],\n",
       "       [0., 0., 0., 0., 0., 1.]])"
      ]
     },
     "execution_count": 120,
     "metadata": {},
     "output_type": "execute_result"
    }
   ],
   "source": [
    "y_train_hot = np.zeros((len(y_train), 6))\n",
    "y_train_hot[np.arange(len(y_train)), y_train] = 1\n",
    "y_train_hot"
   ]
  },
  {
   "cell_type": "code",
   "execution_count": 128,
   "metadata": {},
   "outputs": [
    {
     "name": "stdout",
     "output_type": "stream",
     "text": [
      "Train on 6444 samples, validate on 716 samples\n",
      "Epoch 1/80\n",
      "6444/6444 [==============================] - 0s 41us/sample - loss: 1.0072 - acc: 0.6372 - val_loss: 1.3272 - val_acc: 0.5642\n",
      "Epoch 2/80\n",
      "6444/6444 [==============================] - 0s 37us/sample - loss: 1.0180 - acc: 0.6339 - val_loss: 1.2909 - val_acc: 0.5754\n",
      "Epoch 3/80\n",
      "6444/6444 [==============================] - 0s 37us/sample - loss: 1.0116 - acc: 0.6392 - val_loss: 1.3032 - val_acc: 0.5782\n",
      "Epoch 4/80\n",
      "6444/6444 [==============================] - 0s 38us/sample - loss: 1.0175 - acc: 0.6392 - val_loss: 1.2855 - val_acc: 0.5880\n",
      "Epoch 5/80\n",
      "6444/6444 [==============================] - ETA: 0s - loss: 0.9914 - acc: 0.6457- ETA: 0s - loss: 1.0100 - acc: 0.6 - 0s 39us/sample - loss: 0.9932 - acc: 0.6457 - val_loss: 1.2970 - val_acc: 0.5838\n",
      "Epoch 6/80\n",
      "6444/6444 [==============================] - 0s 39us/sample - loss: 0.9974 - acc: 0.6491 - val_loss: 1.2834 - val_acc: 0.5810\n",
      "Epoch 7/80\n",
      "6444/6444 [==============================] - ETA: 0s - loss: 0.9992 - acc: 0.644 - 0s 38us/sample - loss: 1.0052 - acc: 0.6425 - val_loss: 1.3086 - val_acc: 0.5670\n",
      "Epoch 8/80\n",
      "6444/6444 [==============================] - 0s 39us/sample - loss: 1.0007 - acc: 0.6440 - val_loss: 1.3029 - val_acc: 0.5796\n",
      "Epoch 9/80\n",
      "6444/6444 [==============================] - 0s 48us/sample - loss: 0.9990 - acc: 0.6456 - val_loss: 1.2724 - val_acc: 0.5824\n",
      "Epoch 10/80\n",
      "6444/6444 [==============================] - 0s 40us/sample - loss: 1.0020 - acc: 0.6488 - val_loss: 1.2814 - val_acc: 0.5740\n",
      "Epoch 11/80\n",
      "6444/6444 [==============================] - 0s 45us/sample - loss: 0.9892 - acc: 0.6470 - val_loss: 1.2851 - val_acc: 0.5838\n",
      "Epoch 12/80\n",
      "6444/6444 [==============================] - 0s 48us/sample - loss: 0.9933 - acc: 0.6429 - val_loss: 1.3010 - val_acc: 0.5740\n",
      "Epoch 13/80\n",
      "6444/6444 [==============================] - 0s 39us/sample - loss: 1.0017 - acc: 0.6432 - val_loss: 1.2967 - val_acc: 0.5796\n",
      "Epoch 14/80\n",
      "6444/6444 [==============================] - 0s 37us/sample - loss: 0.9910 - acc: 0.6502 - val_loss: 1.2840 - val_acc: 0.5922\n",
      "Epoch 15/80\n",
      "6444/6444 [==============================] - 0s 38us/sample - loss: 0.9942 - acc: 0.6443 - val_loss: 1.2970 - val_acc: 0.5838\n",
      "Epoch 16/80\n",
      "6444/6444 [==============================] - 0s 39us/sample - loss: 0.9897 - acc: 0.6487 - val_loss: 1.2936 - val_acc: 0.5698\n",
      "Epoch 17/80\n",
      "6444/6444 [==============================] - 0s 44us/sample - loss: 1.0025 - acc: 0.6448 - val_loss: 1.2937 - val_acc: 0.5754\n",
      "Epoch 18/80\n",
      "6444/6444 [==============================] - 0s 39us/sample - loss: 0.9935 - acc: 0.6485 - val_loss: 1.2970 - val_acc: 0.5852\n",
      "Epoch 19/80\n",
      "6444/6444 [==============================] - 0s 38us/sample - loss: 0.9918 - acc: 0.6440 - val_loss: 1.2904 - val_acc: 0.5712\n",
      "Epoch 20/80\n",
      "6444/6444 [==============================] - 0s 40us/sample - loss: 0.9984 - acc: 0.6456 - val_loss: 1.3215 - val_acc: 0.5866\n",
      "Epoch 21/80\n",
      "6444/6444 [==============================] - 0s 45us/sample - loss: 0.9893 - acc: 0.6507 - val_loss: 1.3034 - val_acc: 0.5740\n",
      "Epoch 22/80\n",
      "6444/6444 [==============================] - 0s 39us/sample - loss: 0.9866 - acc: 0.6496 - val_loss: 1.3020 - val_acc: 0.5656\n",
      "Epoch 23/80\n",
      "6444/6444 [==============================] - 0s 38us/sample - loss: 0.9847 - acc: 0.6507 - val_loss: 1.2907 - val_acc: 0.5670\n",
      "Epoch 24/80\n",
      "6444/6444 [==============================] - 0s 39us/sample - loss: 0.9804 - acc: 0.6496 - val_loss: 1.2974 - val_acc: 0.5796\n",
      "Epoch 25/80\n",
      "6444/6444 [==============================] - 0s 39us/sample - loss: 0.9806 - acc: 0.6451 - val_loss: 1.3211 - val_acc: 0.5712\n",
      "Epoch 26/80\n",
      "6444/6444 [==============================] - 0s 39us/sample - loss: 0.9826 - acc: 0.6524 - val_loss: 1.2943 - val_acc: 0.5698\n",
      "Epoch 27/80\n",
      "6444/6444 [==============================] - 0s 42us/sample - loss: 0.9930 - acc: 0.6400 - val_loss: 1.2827 - val_acc: 0.5824\n",
      "Epoch 28/80\n",
      "6444/6444 [==============================] - 0s 40us/sample - loss: 0.9736 - acc: 0.6519 - val_loss: 1.2946 - val_acc: 0.5782\n",
      "Epoch 29/80\n",
      "6444/6444 [==============================] - 0s 42us/sample - loss: 0.9843 - acc: 0.6504 - val_loss: 1.3083 - val_acc: 0.5838\n",
      "Epoch 30/80\n",
      "6444/6444 [==============================] - 0s 41us/sample - loss: 0.9864 - acc: 0.6435 - val_loss: 1.3111 - val_acc: 0.5698\n",
      "Epoch 31/80\n",
      "6444/6444 [==============================] - 0s 38us/sample - loss: 0.9842 - acc: 0.6474 - val_loss: 1.2899 - val_acc: 0.5768\n",
      "Epoch 32/80\n",
      "6444/6444 [==============================] - 0s 41us/sample - loss: 0.9775 - acc: 0.6578 - val_loss: 1.2937 - val_acc: 0.5810\n",
      "Epoch 33/80\n",
      "6444/6444 [==============================] - 0s 36us/sample - loss: 0.9786 - acc: 0.6535 - val_loss: 1.3046 - val_acc: 0.5712\n",
      "Epoch 34/80\n",
      "6444/6444 [==============================] - 0s 39us/sample - loss: 0.9835 - acc: 0.6516 - val_loss: 1.2839 - val_acc: 0.5726\n",
      "Epoch 35/80\n",
      "6444/6444 [==============================] - 0s 39us/sample - loss: 0.9746 - acc: 0.6574 - val_loss: 1.3120 - val_acc: 0.5894\n",
      "Epoch 36/80\n",
      "6444/6444 [==============================] - 0s 40us/sample - loss: 0.9822 - acc: 0.6482 - val_loss: 1.2690 - val_acc: 0.5810\n",
      "Epoch 37/80\n",
      "6444/6444 [==============================] - 0s 43us/sample - loss: 0.9752 - acc: 0.6494 - val_loss: 1.3165 - val_acc: 0.5684\n",
      "Epoch 38/80\n",
      "6444/6444 [==============================] - 0s 40us/sample - loss: 0.9744 - acc: 0.6580 - val_loss: 1.3810 - val_acc: 0.5433\n",
      "Epoch 39/80\n",
      "6444/6444 [==============================] - 0s 39us/sample - loss: 0.9837 - acc: 0.6529 - val_loss: 1.2938 - val_acc: 0.5656\n",
      "Epoch 40/80\n",
      "6444/6444 [==============================] - 0s 39us/sample - loss: 0.9823 - acc: 0.6499 - val_loss: 1.2795 - val_acc: 0.5810\n",
      "Epoch 41/80\n",
      "6444/6444 [==============================] - 0s 38us/sample - loss: 0.9882 - acc: 0.6477 - val_loss: 1.3018 - val_acc: 0.5698\n",
      "Epoch 42/80\n",
      "6444/6444 [==============================] - 0s 45us/sample - loss: 0.9680 - acc: 0.6508 - val_loss: 1.2950 - val_acc: 0.5740\n",
      "Epoch 43/80\n",
      "6444/6444 [==============================] - 0s 46us/sample - loss: 0.9758 - acc: 0.6518 - val_loss: 1.3054 - val_acc: 0.5838\n",
      "Epoch 44/80\n",
      "6444/6444 [==============================] - 0s 38us/sample - loss: 0.9790 - acc: 0.6515 - val_loss: 1.3008 - val_acc: 0.5838\n",
      "Epoch 45/80\n",
      "6444/6444 [==============================] - 0s 38us/sample - loss: 0.9753 - acc: 0.6539 - val_loss: 1.3041 - val_acc: 0.5838\n",
      "Epoch 46/80\n",
      "6444/6444 [==============================] - 0s 39us/sample - loss: 0.9739 - acc: 0.6560 - val_loss: 1.3130 - val_acc: 0.5908\n",
      "Epoch 47/80\n",
      "6444/6444 [==============================] - 0s 40us/sample - loss: 0.9754 - acc: 0.6513 - val_loss: 1.3045 - val_acc: 0.5670\n",
      "Epoch 48/80\n",
      "6444/6444 [==============================] - 0s 39us/sample - loss: 0.9719 - acc: 0.6570 - val_loss: 1.3124 - val_acc: 0.5642\n",
      "Epoch 49/80\n",
      "6444/6444 [==============================] - 0s 41us/sample - loss: 0.9761 - acc: 0.6591 - val_loss: 1.3088 - val_acc: 0.5922\n",
      "Epoch 50/80\n",
      "6444/6444 [==============================] - 0s 40us/sample - loss: 0.9610 - acc: 0.6605 - val_loss: 1.3430 - val_acc: 0.5419\n",
      "Epoch 51/80\n",
      "6444/6444 [==============================] - 0s 50us/sample - loss: 0.9696 - acc: 0.6563 - val_loss: 1.2904 - val_acc: 0.5768\n",
      "Epoch 52/80\n",
      "6444/6444 [==============================] - 0s 44us/sample - loss: 0.9645 - acc: 0.6549 - val_loss: 1.3024 - val_acc: 0.5782\n",
      "Epoch 53/80\n",
      "6444/6444 [==============================] - 0s 45us/sample - loss: 0.9647 - acc: 0.6561 - val_loss: 1.3142 - val_acc: 0.5852\n",
      "Epoch 54/80\n",
      "6444/6444 [==============================] - 0s 45us/sample - loss: 0.9701 - acc: 0.6505 - val_loss: 1.3152 - val_acc: 0.5782\n",
      "Epoch 55/80\n",
      "6444/6444 [==============================] - ETA: 0s - loss: 0.9721 - acc: 0.648 - 0s 46us/sample - loss: 0.9683 - acc: 0.6490 - val_loss: 1.2997 - val_acc: 0.5796\n",
      "Epoch 56/80\n",
      "6444/6444 [==============================] - 0s 36us/sample - loss: 0.9729 - acc: 0.6594 - val_loss: 1.3337 - val_acc: 0.5810\n",
      "Epoch 57/80\n",
      "6444/6444 [==============================] - 0s 41us/sample - loss: 0.9660 - acc: 0.6564 - val_loss: 1.3159 - val_acc: 0.5656\n",
      "Epoch 58/80\n",
      "6444/6444 [==============================] - 0s 44us/sample - loss: 0.9739 - acc: 0.6558 - val_loss: 1.2684 - val_acc: 0.5852\n",
      "Epoch 59/80\n",
      "6444/6444 [==============================] - 0s 39us/sample - loss: 0.9683 - acc: 0.6603 - val_loss: 1.2852 - val_acc: 0.5796\n",
      "Epoch 60/80\n",
      "6444/6444 [==============================] - 0s 38us/sample - loss: 0.9745 - acc: 0.6508 - val_loss: 1.3032 - val_acc: 0.5852\n",
      "Epoch 61/80\n",
      "6444/6444 [==============================] - 0s 41us/sample - loss: 0.9676 - acc: 0.6552 - val_loss: 1.2900 - val_acc: 0.5838\n",
      "Epoch 62/80\n",
      "6444/6444 [==============================] - 0s 37us/sample - loss: 0.9674 - acc: 0.6578 - val_loss: 1.3053 - val_acc: 0.5810\n",
      "Epoch 63/80\n",
      "6444/6444 [==============================] - 0s 35us/sample - loss: 0.9655 - acc: 0.6564 - val_loss: 1.3103 - val_acc: 0.5852\n",
      "Epoch 64/80\n",
      "6444/6444 [==============================] - 0s 41us/sample - loss: 0.9642 - acc: 0.6626 - val_loss: 1.2861 - val_acc: 0.5698\n",
      "Epoch 65/80\n",
      "6444/6444 [==============================] - 0s 38us/sample - loss: 0.9659 - acc: 0.6516 - val_loss: 1.3037 - val_acc: 0.5880\n",
      "Epoch 66/80\n",
      "6444/6444 [==============================] - 0s 40us/sample - loss: 0.9556 - acc: 0.6605 - val_loss: 1.3398 - val_acc: 0.5796\n",
      "Epoch 67/80\n",
      "6444/6444 [==============================] - 0s 39us/sample - loss: 0.9649 - acc: 0.6567 - val_loss: 1.3279 - val_acc: 0.5838\n",
      "Epoch 68/80\n",
      "6444/6444 [==============================] - 0s 40us/sample - loss: 0.9607 - acc: 0.6595 - val_loss: 1.2949 - val_acc: 0.5768\n",
      "Epoch 69/80\n",
      "6444/6444 [==============================] - 0s 36us/sample - loss: 0.9751 - acc: 0.6541 - val_loss: 1.2827 - val_acc: 0.5768\n",
      "Epoch 70/80\n",
      "6444/6444 [==============================] - ETA: 0s - loss: 0.9670 - acc: 0.655 - 0s 38us/sample - loss: 0.9661 - acc: 0.6550 - val_loss: 1.3126 - val_acc: 0.5754\n",
      "Epoch 71/80\n",
      "6444/6444 [==============================] - 0s 38us/sample - loss: 0.9646 - acc: 0.6619 - val_loss: 1.3038 - val_acc: 0.5726\n",
      "Epoch 72/80\n",
      "6444/6444 [==============================] - 0s 43us/sample - loss: 0.9648 - acc: 0.6581 - val_loss: 1.3032 - val_acc: 0.5824\n",
      "Epoch 73/80\n",
      "6444/6444 [==============================] - 0s 45us/sample - loss: 0.9680 - acc: 0.6606 - val_loss: 1.3301 - val_acc: 0.5670\n",
      "Epoch 74/80\n",
      "6444/6444 [==============================] - 0s 46us/sample - loss: 0.9698 - acc: 0.6519 - val_loss: 1.3105 - val_acc: 0.5698\n",
      "Epoch 75/80\n",
      "6444/6444 [==============================] - 0s 49us/sample - loss: 0.9565 - acc: 0.6584 - val_loss: 1.3194 - val_acc: 0.5740\n",
      "Epoch 76/80\n",
      "6444/6444 [==============================] - 0s 41us/sample - loss: 0.9583 - acc: 0.6595 - val_loss: 1.3089 - val_acc: 0.5615\n",
      "Epoch 77/80\n",
      "6444/6444 [==============================] - 0s 46us/sample - loss: 0.9670 - acc: 0.6588 - val_loss: 1.2952 - val_acc: 0.5880\n",
      "Epoch 78/80\n",
      "6444/6444 [==============================] - 0s 39us/sample - loss: 0.9575 - acc: 0.6619 - val_loss: 1.3110 - val_acc: 0.5698\n",
      "Epoch 79/80\n",
      "6444/6444 [==============================] - 0s 45us/sample - loss: 0.9539 - acc: 0.6631 - val_loss: 1.3001 - val_acc: 0.5824\n",
      "Epoch 80/80\n",
      "6444/6444 [==============================] - ETA: 0s - loss: 0.9693 - acc: 0.655 - 0s 39us/sample - loss: 0.9684 - acc: 0.6541 - val_loss: 1.2915 - val_acc: 0.5880\n"
     ]
    }
   ],
   "source": [
    "model_history = model.fit(x=x_train_best, y=y_train_hot,\n",
    "                          batch_size=60, epochs=80,\n",
    "                          validation_split= 0.1,shuffle=True\n",
    "                          )"
   ]
  },
  {
   "cell_type": "code",
   "execution_count": 131,
   "metadata": {},
   "outputs": [],
   "source": [
    "y_predict = model.predict_classes(x_test_best)"
   ]
  },
  {
   "cell_type": "code",
   "execution_count": 132,
   "metadata": {},
   "outputs": [],
   "source": [
    "ans = y_predict.reshape((-1, 1))"
   ]
  },
  {
   "cell_type": "code",
   "execution_count": 133,
   "metadata": {},
   "outputs": [],
   "source": [
    "len(ans)\n",
    "ans\n",
    "\n",
    "with open('result_2019_08_23_pokemon.csv', 'a') as a_writer:\n",
    "    for i in range(len(ans)):\n",
    "        result_r = csv.writer(a_writer, lineterminator='\\n')\n",
    "        result_r.writerow(ans[i])"
   ]
  },
  {
   "cell_type": "code",
   "execution_count": 129,
   "metadata": {},
   "outputs": [],
   "source": [
    "train_loss = model_history.history['loss']\n",
    "train_acc = model_history.history['acc']\n",
    "valid_loss = model_history.history['val_loss']\n",
    "valid_acc = model_history.history['val_acc']"
   ]
  },
  {
   "cell_type": "code",
   "execution_count": 130,
   "metadata": {},
   "outputs": [
    {
     "data": {
      "image/png": "[encoded data removed]",
      "text/plain": [
       "<Figure size 432x288 with 1 Axes>"
      ]
     },
     "metadata": {
      "needs_background": "light"
     },
     "output_type": "display_data"
    },
    {
     "data": {
      "image/png": "[encoded data removed]",
      "text/plain": [
       "<Figure size 432x288 with 1 Axes>"
      ]
     },
     "metadata": {
      "needs_background": "light"
     },
     "output_type": "display_data"
    }
   ],
   "source": [
    "plt.plot(train_loss, 'b', label='train')\n",
    "plt.plot(valid_loss, 'r', label='valid')\n",
    "plt.legend()\n",
    "plt.title(\"Loss\")\n",
    "plt.show()\n",
    "\n",
    "plt.plot(train_acc, 'b', label='train')\n",
    "plt.plot(valid_acc, 'r', label='valid')\n",
    "plt.legend(loc=4)\n",
    "plt.title(\"Accuracy\")\n",
    "plt.show()"
   ]
  },
  {
   "cell_type": "code",
   "execution_count": null,
   "metadata": {},
   "outputs": [],
   "source": []
  },
  {
   "cell_type": "code",
   "execution_count": null,
   "metadata": {},
   "outputs": [],
   "source": []
  }
 ],
 "metadata": {
  "kernelspec": {
   "display_name": "Python 3",
   "language": "python",
   "name": "python3"
  },
  "language_info": {
   "codemirror_mode": {
    "name": "ipython",
    "version": 3
   },
   "file_extension": ".py",
   "mimetype": "text/x-python",
   "name": "python",
   "nbconvert_exporter": "python",
   "pygments_lexer": "ipython3",
   "version": "3.7.3"
  }
 },
 "nbformat": 4,
 "nbformat_minor": 4
}
